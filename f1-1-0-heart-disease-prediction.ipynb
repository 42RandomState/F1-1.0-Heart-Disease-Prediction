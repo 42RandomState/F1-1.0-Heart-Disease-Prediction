{
 "cells": [
  {
   "cell_type": "markdown",
   "id": "853c5a75",
   "metadata": {
    "papermill": {
     "duration": 0.007617,
     "end_time": "2025-04-25T12:38:01.471964",
     "exception": false,
     "start_time": "2025-04-25T12:38:01.464347",
     "status": "completed"
    },
    "tags": []
   },
   "source": [
    "# **PROJECT POWERED BY Leonardo Cofone**"
   ]
  },
  {
   "cell_type": "markdown",
   "id": "d6567ccb",
   "metadata": {
    "papermill": {
     "duration": 0.006396,
     "end_time": "2025-04-25T12:38:01.485277",
     "exception": false,
     "start_time": "2025-04-25T12:38:01.478881",
     "status": "completed"
    },
    "tags": []
   },
   "source": [
    "The project aims to analyze and predict heart disease using a dataset containing different medical characteristics of patients. The data analysis is performed through the use of Machine Learning algorithms, with the aim of building a model capable of predicting the probability of heart disease onset.\n",
    "\n",
    "In particular, the project exploits a variety of classification algorithms, including logistic regression, Random Forest, Support Vector Machine (SVM), K-Nearest Neighbors (KNN), and Gradient Boosting. Each model is trained and evaluated based on different performance metrics, including precision, recall, and F1 score, to determine which model offers the best predictive performance.\n",
    "\n",
    "The dataset has been split into two sets: one for training (train set) and the other for testing the model (test set), ensuring that the model is evaluated on data never seen before, to avoid the phenomenon of overfitting. During the process, several preprocessing steps were applied, including missing data handling, normalization of numerical variables, and transformation of highly unbalanced variables.\n",
    "\n",
    "Finally, a careful analysis of the models will allow selecting the most appropriate solution, contributing to the construction of a predictive system that could be used in clinical practice to support early diagnosis of heart disease."
   ]
  },
  {
   "cell_type": "markdown",
   "id": "1a9129b9",
   "metadata": {
    "papermill": {
     "duration": 0.006419,
     "end_time": "2025-04-25T12:38:01.499597",
     "exception": false,
     "start_time": "2025-04-25T12:38:01.493178",
     "status": "completed"
    },
    "tags": []
   },
   "source": [
    "## **1) Analyze all the data**"
   ]
  },
  {
   "cell_type": "code",
   "execution_count": 1,
   "id": "5e6edacc",
   "metadata": {
    "execution": {
     "iopub.execute_input": "2025-04-25T12:38:01.514495Z",
     "iopub.status.busy": "2025-04-25T12:38:01.514167Z",
     "iopub.status.idle": "2025-04-25T12:38:20.980053Z",
     "shell.execute_reply": "2025-04-25T12:38:20.979067Z"
    },
    "papermill": {
     "duration": 19.475426,
     "end_time": "2025-04-25T12:38:20.981822",
     "exception": false,
     "start_time": "2025-04-25T12:38:01.506396",
     "status": "completed"
    },
    "tags": []
   },
   "outputs": [
    {
     "name": "stderr",
     "output_type": "stream",
     "text": [
      "2025-04-25 12:38:03.508928: E external/local_xla/xla/stream_executor/cuda/cuda_fft.cc:477] Unable to register cuFFT factory: Attempting to register factory for plugin cuFFT when one has already been registered\n",
      "WARNING: All log messages before absl::InitializeLog() is called are written to STDERR\n",
      "E0000 00:00:1745584683.779367      13 cuda_dnn.cc:8310] Unable to register cuDNN factory: Attempting to register factory for plugin cuDNN when one has already been registered\n",
      "E0000 00:00:1745584683.860101      13 cuda_blas.cc:1418] Unable to register cuBLAS factory: Attempting to register factory for plugin cuBLAS when one has already been registered\n"
     ]
    }
   ],
   "source": [
    "import numpy as np\n",
    "import tensorflow as tf\n",
    "import pandas as pd\n",
    "import random\n",
    "import warnings\n",
    "warnings.filterwarnings('ignore')\n",
    "\n",
    "np.random.seed(42)\n",
    "random.seed(42)\n",
    "tf.random.set_seed(42)\n",
    "\n",
    "data = pd.read_csv('/kaggle/input/heart-disease-dataset/heart.csv')"
   ]
  },
  {
   "cell_type": "code",
   "execution_count": 2,
   "id": "a32dab9e",
   "metadata": {
    "execution": {
     "iopub.execute_input": "2025-04-25T12:38:20.997228Z",
     "iopub.status.busy": "2025-04-25T12:38:20.996843Z",
     "iopub.status.idle": "2025-04-25T12:38:21.025847Z",
     "shell.execute_reply": "2025-04-25T12:38:21.024772Z"
    },
    "papermill": {
     "duration": 0.03854,
     "end_time": "2025-04-25T12:38:21.027640",
     "exception": false,
     "start_time": "2025-04-25T12:38:20.989100",
     "status": "completed"
    },
    "tags": []
   },
   "outputs": [
    {
     "data": {
      "text/html": [
       "<div>\n",
       "<style scoped>\n",
       "    .dataframe tbody tr th:only-of-type {\n",
       "        vertical-align: middle;\n",
       "    }\n",
       "\n",
       "    .dataframe tbody tr th {\n",
       "        vertical-align: top;\n",
       "    }\n",
       "\n",
       "    .dataframe thead th {\n",
       "        text-align: right;\n",
       "    }\n",
       "</style>\n",
       "<table border=\"1\" class=\"dataframe\">\n",
       "  <thead>\n",
       "    <tr style=\"text-align: right;\">\n",
       "      <th></th>\n",
       "      <th>age</th>\n",
       "      <th>sex</th>\n",
       "      <th>cp</th>\n",
       "      <th>trestbps</th>\n",
       "      <th>chol</th>\n",
       "      <th>fbs</th>\n",
       "      <th>restecg</th>\n",
       "      <th>thalach</th>\n",
       "      <th>exang</th>\n",
       "      <th>oldpeak</th>\n",
       "      <th>slope</th>\n",
       "      <th>ca</th>\n",
       "      <th>thal</th>\n",
       "      <th>target</th>\n",
       "    </tr>\n",
       "  </thead>\n",
       "  <tbody>\n",
       "    <tr>\n",
       "      <th>0</th>\n",
       "      <td>52</td>\n",
       "      <td>1</td>\n",
       "      <td>0</td>\n",
       "      <td>125</td>\n",
       "      <td>212</td>\n",
       "      <td>0</td>\n",
       "      <td>1</td>\n",
       "      <td>168</td>\n",
       "      <td>0</td>\n",
       "      <td>1.0</td>\n",
       "      <td>2</td>\n",
       "      <td>2</td>\n",
       "      <td>3</td>\n",
       "      <td>0</td>\n",
       "    </tr>\n",
       "    <tr>\n",
       "      <th>1</th>\n",
       "      <td>53</td>\n",
       "      <td>1</td>\n",
       "      <td>0</td>\n",
       "      <td>140</td>\n",
       "      <td>203</td>\n",
       "      <td>1</td>\n",
       "      <td>0</td>\n",
       "      <td>155</td>\n",
       "      <td>1</td>\n",
       "      <td>3.1</td>\n",
       "      <td>0</td>\n",
       "      <td>0</td>\n",
       "      <td>3</td>\n",
       "      <td>0</td>\n",
       "    </tr>\n",
       "    <tr>\n",
       "      <th>2</th>\n",
       "      <td>70</td>\n",
       "      <td>1</td>\n",
       "      <td>0</td>\n",
       "      <td>145</td>\n",
       "      <td>174</td>\n",
       "      <td>0</td>\n",
       "      <td>1</td>\n",
       "      <td>125</td>\n",
       "      <td>1</td>\n",
       "      <td>2.6</td>\n",
       "      <td>0</td>\n",
       "      <td>0</td>\n",
       "      <td>3</td>\n",
       "      <td>0</td>\n",
       "    </tr>\n",
       "    <tr>\n",
       "      <th>3</th>\n",
       "      <td>61</td>\n",
       "      <td>1</td>\n",
       "      <td>0</td>\n",
       "      <td>148</td>\n",
       "      <td>203</td>\n",
       "      <td>0</td>\n",
       "      <td>1</td>\n",
       "      <td>161</td>\n",
       "      <td>0</td>\n",
       "      <td>0.0</td>\n",
       "      <td>2</td>\n",
       "      <td>1</td>\n",
       "      <td>3</td>\n",
       "      <td>0</td>\n",
       "    </tr>\n",
       "    <tr>\n",
       "      <th>4</th>\n",
       "      <td>62</td>\n",
       "      <td>0</td>\n",
       "      <td>0</td>\n",
       "      <td>138</td>\n",
       "      <td>294</td>\n",
       "      <td>1</td>\n",
       "      <td>1</td>\n",
       "      <td>106</td>\n",
       "      <td>0</td>\n",
       "      <td>1.9</td>\n",
       "      <td>1</td>\n",
       "      <td>3</td>\n",
       "      <td>2</td>\n",
       "      <td>0</td>\n",
       "    </tr>\n",
       "  </tbody>\n",
       "</table>\n",
       "</div>"
      ],
      "text/plain": [
       "   age  sex  cp  trestbps  chol  fbs  restecg  thalach  exang  oldpeak  slope  \\\n",
       "0   52    1   0       125   212    0        1      168      0      1.0      2   \n",
       "1   53    1   0       140   203    1        0      155      1      3.1      0   \n",
       "2   70    1   0       145   174    0        1      125      1      2.6      0   \n",
       "3   61    1   0       148   203    0        1      161      0      0.0      2   \n",
       "4   62    0   0       138   294    1        1      106      0      1.9      1   \n",
       "\n",
       "   ca  thal  target  \n",
       "0   2     3       0  \n",
       "1   0     3       0  \n",
       "2   0     3       0  \n",
       "3   1     3       0  \n",
       "4   3     2       0  "
      ]
     },
     "execution_count": 2,
     "metadata": {},
     "output_type": "execute_result"
    }
   ],
   "source": [
    "data.head()"
   ]
  },
  {
   "cell_type": "code",
   "execution_count": 3,
   "id": "adc25f45",
   "metadata": {
    "execution": {
     "iopub.execute_input": "2025-04-25T12:38:21.043575Z",
     "iopub.status.busy": "2025-04-25T12:38:21.043268Z",
     "iopub.status.idle": "2025-04-25T12:38:21.072158Z",
     "shell.execute_reply": "2025-04-25T12:38:21.071027Z"
    },
    "papermill": {
     "duration": 0.03826,
     "end_time": "2025-04-25T12:38:21.073608",
     "exception": false,
     "start_time": "2025-04-25T12:38:21.035348",
     "status": "completed"
    },
    "tags": []
   },
   "outputs": [
    {
     "name": "stdout",
     "output_type": "stream",
     "text": [
      "<class 'pandas.core.frame.DataFrame'>\n",
      "RangeIndex: 1025 entries, 0 to 1024\n",
      "Data columns (total 14 columns):\n",
      " #   Column    Non-Null Count  Dtype  \n",
      "---  ------    --------------  -----  \n",
      " 0   age       1025 non-null   int64  \n",
      " 1   sex       1025 non-null   int64  \n",
      " 2   cp        1025 non-null   int64  \n",
      " 3   trestbps  1025 non-null   int64  \n",
      " 4   chol      1025 non-null   int64  \n",
      " 5   fbs       1025 non-null   int64  \n",
      " 6   restecg   1025 non-null   int64  \n",
      " 7   thalach   1025 non-null   int64  \n",
      " 8   exang     1025 non-null   int64  \n",
      " 9   oldpeak   1025 non-null   float64\n",
      " 10  slope     1025 non-null   int64  \n",
      " 11  ca        1025 non-null   int64  \n",
      " 12  thal      1025 non-null   int64  \n",
      " 13  target    1025 non-null   int64  \n",
      "dtypes: float64(1), int64(13)\n",
      "memory usage: 112.2 KB\n"
     ]
    }
   ],
   "source": [
    "data.info()"
   ]
  },
  {
   "cell_type": "code",
   "execution_count": 4,
   "id": "dd828177",
   "metadata": {
    "execution": {
     "iopub.execute_input": "2025-04-25T12:38:21.090705Z",
     "iopub.status.busy": "2025-04-25T12:38:21.090010Z",
     "iopub.status.idle": "2025-04-25T12:38:21.129778Z",
     "shell.execute_reply": "2025-04-25T12:38:21.128693Z"
    },
    "papermill": {
     "duration": 0.049959,
     "end_time": "2025-04-25T12:38:21.131473",
     "exception": false,
     "start_time": "2025-04-25T12:38:21.081514",
     "status": "completed"
    },
    "tags": []
   },
   "outputs": [
    {
     "data": {
      "text/html": [
       "<div>\n",
       "<style scoped>\n",
       "    .dataframe tbody tr th:only-of-type {\n",
       "        vertical-align: middle;\n",
       "    }\n",
       "\n",
       "    .dataframe tbody tr th {\n",
       "        vertical-align: top;\n",
       "    }\n",
       "\n",
       "    .dataframe thead th {\n",
       "        text-align: right;\n",
       "    }\n",
       "</style>\n",
       "<table border=\"1\" class=\"dataframe\">\n",
       "  <thead>\n",
       "    <tr style=\"text-align: right;\">\n",
       "      <th></th>\n",
       "      <th>age</th>\n",
       "      <th>sex</th>\n",
       "      <th>cp</th>\n",
       "      <th>trestbps</th>\n",
       "      <th>chol</th>\n",
       "      <th>fbs</th>\n",
       "      <th>restecg</th>\n",
       "      <th>thalach</th>\n",
       "      <th>exang</th>\n",
       "      <th>oldpeak</th>\n",
       "      <th>slope</th>\n",
       "      <th>ca</th>\n",
       "      <th>thal</th>\n",
       "      <th>target</th>\n",
       "    </tr>\n",
       "  </thead>\n",
       "  <tbody>\n",
       "    <tr>\n",
       "      <th>count</th>\n",
       "      <td>1025.000000</td>\n",
       "      <td>1025.000000</td>\n",
       "      <td>1025.000000</td>\n",
       "      <td>1025.000000</td>\n",
       "      <td>1025.00000</td>\n",
       "      <td>1025.000000</td>\n",
       "      <td>1025.000000</td>\n",
       "      <td>1025.000000</td>\n",
       "      <td>1025.000000</td>\n",
       "      <td>1025.000000</td>\n",
       "      <td>1025.000000</td>\n",
       "      <td>1025.000000</td>\n",
       "      <td>1025.000000</td>\n",
       "      <td>1025.000000</td>\n",
       "    </tr>\n",
       "    <tr>\n",
       "      <th>mean</th>\n",
       "      <td>54.434146</td>\n",
       "      <td>0.695610</td>\n",
       "      <td>0.942439</td>\n",
       "      <td>131.611707</td>\n",
       "      <td>246.00000</td>\n",
       "      <td>0.149268</td>\n",
       "      <td>0.529756</td>\n",
       "      <td>149.114146</td>\n",
       "      <td>0.336585</td>\n",
       "      <td>1.071512</td>\n",
       "      <td>1.385366</td>\n",
       "      <td>0.754146</td>\n",
       "      <td>2.323902</td>\n",
       "      <td>0.513171</td>\n",
       "    </tr>\n",
       "    <tr>\n",
       "      <th>std</th>\n",
       "      <td>9.072290</td>\n",
       "      <td>0.460373</td>\n",
       "      <td>1.029641</td>\n",
       "      <td>17.516718</td>\n",
       "      <td>51.59251</td>\n",
       "      <td>0.356527</td>\n",
       "      <td>0.527878</td>\n",
       "      <td>23.005724</td>\n",
       "      <td>0.472772</td>\n",
       "      <td>1.175053</td>\n",
       "      <td>0.617755</td>\n",
       "      <td>1.030798</td>\n",
       "      <td>0.620660</td>\n",
       "      <td>0.500070</td>\n",
       "    </tr>\n",
       "    <tr>\n",
       "      <th>min</th>\n",
       "      <td>29.000000</td>\n",
       "      <td>0.000000</td>\n",
       "      <td>0.000000</td>\n",
       "      <td>94.000000</td>\n",
       "      <td>126.00000</td>\n",
       "      <td>0.000000</td>\n",
       "      <td>0.000000</td>\n",
       "      <td>71.000000</td>\n",
       "      <td>0.000000</td>\n",
       "      <td>0.000000</td>\n",
       "      <td>0.000000</td>\n",
       "      <td>0.000000</td>\n",
       "      <td>0.000000</td>\n",
       "      <td>0.000000</td>\n",
       "    </tr>\n",
       "    <tr>\n",
       "      <th>25%</th>\n",
       "      <td>48.000000</td>\n",
       "      <td>0.000000</td>\n",
       "      <td>0.000000</td>\n",
       "      <td>120.000000</td>\n",
       "      <td>211.00000</td>\n",
       "      <td>0.000000</td>\n",
       "      <td>0.000000</td>\n",
       "      <td>132.000000</td>\n",
       "      <td>0.000000</td>\n",
       "      <td>0.000000</td>\n",
       "      <td>1.000000</td>\n",
       "      <td>0.000000</td>\n",
       "      <td>2.000000</td>\n",
       "      <td>0.000000</td>\n",
       "    </tr>\n",
       "    <tr>\n",
       "      <th>50%</th>\n",
       "      <td>56.000000</td>\n",
       "      <td>1.000000</td>\n",
       "      <td>1.000000</td>\n",
       "      <td>130.000000</td>\n",
       "      <td>240.00000</td>\n",
       "      <td>0.000000</td>\n",
       "      <td>1.000000</td>\n",
       "      <td>152.000000</td>\n",
       "      <td>0.000000</td>\n",
       "      <td>0.800000</td>\n",
       "      <td>1.000000</td>\n",
       "      <td>0.000000</td>\n",
       "      <td>2.000000</td>\n",
       "      <td>1.000000</td>\n",
       "    </tr>\n",
       "    <tr>\n",
       "      <th>75%</th>\n",
       "      <td>61.000000</td>\n",
       "      <td>1.000000</td>\n",
       "      <td>2.000000</td>\n",
       "      <td>140.000000</td>\n",
       "      <td>275.00000</td>\n",
       "      <td>0.000000</td>\n",
       "      <td>1.000000</td>\n",
       "      <td>166.000000</td>\n",
       "      <td>1.000000</td>\n",
       "      <td>1.800000</td>\n",
       "      <td>2.000000</td>\n",
       "      <td>1.000000</td>\n",
       "      <td>3.000000</td>\n",
       "      <td>1.000000</td>\n",
       "    </tr>\n",
       "    <tr>\n",
       "      <th>max</th>\n",
       "      <td>77.000000</td>\n",
       "      <td>1.000000</td>\n",
       "      <td>3.000000</td>\n",
       "      <td>200.000000</td>\n",
       "      <td>564.00000</td>\n",
       "      <td>1.000000</td>\n",
       "      <td>2.000000</td>\n",
       "      <td>202.000000</td>\n",
       "      <td>1.000000</td>\n",
       "      <td>6.200000</td>\n",
       "      <td>2.000000</td>\n",
       "      <td>4.000000</td>\n",
       "      <td>3.000000</td>\n",
       "      <td>1.000000</td>\n",
       "    </tr>\n",
       "  </tbody>\n",
       "</table>\n",
       "</div>"
      ],
      "text/plain": [
       "               age          sex           cp     trestbps        chol  \\\n",
       "count  1025.000000  1025.000000  1025.000000  1025.000000  1025.00000   \n",
       "mean     54.434146     0.695610     0.942439   131.611707   246.00000   \n",
       "std       9.072290     0.460373     1.029641    17.516718    51.59251   \n",
       "min      29.000000     0.000000     0.000000    94.000000   126.00000   \n",
       "25%      48.000000     0.000000     0.000000   120.000000   211.00000   \n",
       "50%      56.000000     1.000000     1.000000   130.000000   240.00000   \n",
       "75%      61.000000     1.000000     2.000000   140.000000   275.00000   \n",
       "max      77.000000     1.000000     3.000000   200.000000   564.00000   \n",
       "\n",
       "               fbs      restecg      thalach        exang      oldpeak  \\\n",
       "count  1025.000000  1025.000000  1025.000000  1025.000000  1025.000000   \n",
       "mean      0.149268     0.529756   149.114146     0.336585     1.071512   \n",
       "std       0.356527     0.527878    23.005724     0.472772     1.175053   \n",
       "min       0.000000     0.000000    71.000000     0.000000     0.000000   \n",
       "25%       0.000000     0.000000   132.000000     0.000000     0.000000   \n",
       "50%       0.000000     1.000000   152.000000     0.000000     0.800000   \n",
       "75%       0.000000     1.000000   166.000000     1.000000     1.800000   \n",
       "max       1.000000     2.000000   202.000000     1.000000     6.200000   \n",
       "\n",
       "             slope           ca         thal       target  \n",
       "count  1025.000000  1025.000000  1025.000000  1025.000000  \n",
       "mean      1.385366     0.754146     2.323902     0.513171  \n",
       "std       0.617755     1.030798     0.620660     0.500070  \n",
       "min       0.000000     0.000000     0.000000     0.000000  \n",
       "25%       1.000000     0.000000     2.000000     0.000000  \n",
       "50%       1.000000     0.000000     2.000000     1.000000  \n",
       "75%       2.000000     1.000000     3.000000     1.000000  \n",
       "max       2.000000     4.000000     3.000000     1.000000  "
      ]
     },
     "execution_count": 4,
     "metadata": {},
     "output_type": "execute_result"
    }
   ],
   "source": [
    "data.describe()"
   ]
  },
  {
   "cell_type": "markdown",
   "id": "ab589243",
   "metadata": {
    "papermill": {
     "duration": 0.007923,
     "end_time": "2025-04-25T12:38:21.147056",
     "exception": false,
     "start_time": "2025-04-25T12:38:21.139133",
     "status": "completed"
    },
    "tags": []
   },
   "source": [
    "## **2) Divide into test set and train set**"
   ]
  },
  {
   "cell_type": "code",
   "execution_count": 5,
   "id": "231bb023",
   "metadata": {
    "execution": {
     "iopub.execute_input": "2025-04-25T12:38:21.163510Z",
     "iopub.status.busy": "2025-04-25T12:38:21.162880Z",
     "iopub.status.idle": "2025-04-25T12:38:22.590019Z",
     "shell.execute_reply": "2025-04-25T12:38:22.589033Z"
    },
    "papermill": {
     "duration": 1.43733,
     "end_time": "2025-04-25T12:38:22.591705",
     "exception": false,
     "start_time": "2025-04-25T12:38:21.154375",
     "status": "completed"
    },
    "tags": []
   },
   "outputs": [],
   "source": [
    "from sklearn.model_selection import train_test_split \n",
    "\n",
    "train_set, test_set = train_test_split(\n",
    "   data, test_size=0.2, stratify=data[\"target\"], random_state=42)\n",
    "\n",
    "X_train = train_set.drop(\"target\", axis=1)\n",
    "y_train = train_set[\"target\"].copy()\n",
    "\n",
    "X_test = test_set.drop(\"target\", axis=1)\n",
    "y_test = test_set[\"target\"].copy()"
   ]
  },
  {
   "cell_type": "markdown",
   "id": "9459f79e",
   "metadata": {
    "papermill": {
     "duration": 0.007643,
     "end_time": "2025-04-25T12:38:22.606859",
     "exception": false,
     "start_time": "2025-04-25T12:38:22.599216",
     "status": "completed"
    },
    "tags": []
   },
   "source": [
    "## **1) Continue analyzing the data**"
   ]
  },
  {
   "cell_type": "code",
   "execution_count": 6,
   "id": "f8beabe1",
   "metadata": {
    "execution": {
     "iopub.execute_input": "2025-04-25T12:38:22.623017Z",
     "iopub.status.busy": "2025-04-25T12:38:22.622374Z",
     "iopub.status.idle": "2025-04-25T12:38:22.629037Z",
     "shell.execute_reply": "2025-04-25T12:38:22.628192Z"
    },
    "papermill": {
     "duration": 0.016348,
     "end_time": "2025-04-25T12:38:22.630508",
     "exception": false,
     "start_time": "2025-04-25T12:38:22.614160",
     "status": "completed"
    },
    "tags": []
   },
   "outputs": [
    {
     "name": "stdout",
     "output_type": "stream",
     "text": [
      "Categorical columns: Index([], dtype='object')\n"
     ]
    }
   ],
   "source": [
    "#Check if there is categorical columns\n",
    "categorical_cols = train_set.select_dtypes(include='object').columns\n",
    "print(\"Categorical columns:\", categorical_cols)"
   ]
  },
  {
   "cell_type": "code",
   "execution_count": 7,
   "id": "87226a31",
   "metadata": {
    "execution": {
     "iopub.execute_input": "2025-04-25T12:38:22.647374Z",
     "iopub.status.busy": "2025-04-25T12:38:22.646528Z",
     "iopub.status.idle": "2025-04-25T12:38:22.670366Z",
     "shell.execute_reply": "2025-04-25T12:38:22.669227Z"
    },
    "papermill": {
     "duration": 0.03404,
     "end_time": "2025-04-25T12:38:22.672132",
     "exception": false,
     "start_time": "2025-04-25T12:38:22.638092",
     "status": "completed"
    },
    "tags": []
   },
   "outputs": [
    {
     "name": "stdout",
     "output_type": "stream",
     "text": [
      "Skew of numerical features:\n",
      "fbs         1.920805\n",
      "oldpeak     1.263073\n",
      "ca          1.245629\n",
      "chol        0.938036\n",
      "trestbps    0.764765\n",
      "exang       0.674374\n",
      "cp          0.560258\n",
      "restecg     0.196455\n",
      "target     -0.053678\n",
      "age        -0.271297\n",
      "thal       -0.460502\n",
      "slope      -0.473870\n",
      "thalach    -0.491578\n",
      "sex        -0.847701\n",
      "dtype: float64\n",
      "High skew features: ['fbs', 'oldpeak', 'ca', 'chol']\n"
     ]
    }
   ],
   "source": [
    "#Check if there are heavy-tailed data\n",
    "from scipy.stats import skew\n",
    "\n",
    "numeric_cols = train_set.select_dtypes(include=np.number).columns\n",
    "skewed_feats = train_set[numeric_cols].apply(lambda x: skew(x.dropna())).sort_values(ascending=False)\n",
    "\n",
    "print(\"Skew of numerical features:\")\n",
    "print(skewed_feats)\n",
    "\n",
    "skewed_features = skewed_feats[skewed_feats > 0.8].index.tolist()\n",
    "print(\"High skew features:\", skewed_features)\n",
    "\n",
    "skewed_features = [col for col in skewed_features if col in X_train.columns]"
   ]
  },
  {
   "cell_type": "code",
   "execution_count": 8,
   "id": "7423351d",
   "metadata": {
    "execution": {
     "iopub.execute_input": "2025-04-25T12:38:22.688390Z",
     "iopub.status.busy": "2025-04-25T12:38:22.688083Z",
     "iopub.status.idle": "2025-04-25T12:38:25.185264Z",
     "shell.execute_reply": "2025-04-25T12:38:25.184233Z"
    },
    "papermill": {
     "duration": 2.507121,
     "end_time": "2025-04-25T12:38:25.186780",
     "exception": false,
     "start_time": "2025-04-25T12:38:22.679659",
     "status": "completed"
    },
    "tags": []
   },
   "outputs": [
    {
     "data": {
      "image/png": "[encoded data removed]",
      "text/plain": [
       "<Figure size 1200x1000 with 16 Axes>"
      ]
     },
     "metadata": {},
     "output_type": "display_data"
    }
   ],
   "source": [
    "import matplotlib.pyplot as plt\n",
    "\n",
    "plt.rc('font', size=14)\n",
    "plt.rc('axes', labelsize=14, titlesize=14)\n",
    "plt.rc('legend', fontsize=14)\n",
    "plt.rc('xtick', labelsize=10)\n",
    "plt.rc('ytick', labelsize=10)\n",
    "\n",
    "train_set.hist(bins=50, figsize=(12, 10))\n",
    "plt.show()"
   ]
  },
  {
   "cell_type": "markdown",
   "id": "d508e068",
   "metadata": {
    "papermill": {
     "duration": 0.009409,
     "end_time": "2025-04-25T12:38:25.204942",
     "exception": false,
     "start_time": "2025-04-25T12:38:25.195533",
     "status": "completed"
    },
    "tags": []
   },
   "source": [
    "## **3) Create a pipeline for a better preprocessing**"
   ]
  },
  {
   "cell_type": "code",
   "execution_count": 9,
   "id": "578137a9",
   "metadata": {
    "execution": {
     "iopub.execute_input": "2025-04-25T12:38:25.224385Z",
     "iopub.status.busy": "2025-04-25T12:38:25.224044Z",
     "iopub.status.idle": "2025-04-25T12:38:25.526475Z",
     "shell.execute_reply": "2025-04-25T12:38:25.525487Z"
    },
    "papermill": {
     "duration": 0.314227,
     "end_time": "2025-04-25T12:38:25.528502",
     "exception": false,
     "start_time": "2025-04-25T12:38:25.214275",
     "status": "completed"
    },
    "tags": []
   },
   "outputs": [],
   "source": [
    "#PIPELINE\n",
    "import numpy as np\n",
    "import pandas as pd\n",
    "from sklearn.pipeline import make_pipeline\n",
    "from sklearn.compose import ColumnTransformer, make_column_selector\n",
    "from sklearn.preprocessing import OneHotEncoder, StandardScaler, FunctionTransformer\n",
    "from sklearn.impute import SimpleImputer\n",
    "\n",
    "log_transformer = make_pipeline(                      \n",
    "    SimpleImputer(strategy=\"median\"),\n",
    "    FunctionTransformer(np.log1p, feature_names_out=\"one-to-one\"),\n",
    "    StandardScaler(),\n",
    ")\n",
    "\n",
    "numeric_transformer = make_pipeline(              \n",
    "    SimpleImputer(strategy=\"median\"),\n",
    "    StandardScaler(),\n",
    ")\n",
    "\n",
    "preprocessor = ColumnTransformer([                       \n",
    "    \n",
    "    (\"log\", log_transformer, skewed_features),\n",
    "\n",
    "    (\"num\", numeric_transformer, make_column_selector(dtype_include=np.number)),\n",
    "])"
   ]
  },
  {
   "cell_type": "markdown",
   "id": "5f640c00",
   "metadata": {
    "papermill": {
     "duration": 0.008365,
     "end_time": "2025-04-25T12:38:25.546091",
     "exception": false,
     "start_time": "2025-04-25T12:38:25.537726",
     "status": "completed"
    },
    "tags": []
   },
   "source": [
    "## **4) Train and evaluate different model**"
   ]
  },
  {
   "cell_type": "markdown",
   "id": "b71f36b6",
   "metadata": {
    "papermill": {
     "duration": 0.008338,
     "end_time": "2025-04-25T12:38:25.563422",
     "exception": false,
     "start_time": "2025-04-25T12:38:25.555084",
     "status": "completed"
    },
    "tags": []
   },
   "source": [
    "### Logistic regression"
   ]
  },
  {
   "cell_type": "code",
   "execution_count": 10,
   "id": "804c6c58",
   "metadata": {
    "execution": {
     "iopub.execute_input": "2025-04-25T12:38:25.582852Z",
     "iopub.status.busy": "2025-04-25T12:38:25.582516Z",
     "iopub.status.idle": "2025-04-25T12:38:25.588057Z",
     "shell.execute_reply": "2025-04-25T12:38:25.586807Z"
    },
    "papermill": {
     "duration": 0.017,
     "end_time": "2025-04-25T12:38:25.589688",
     "exception": false,
     "start_time": "2025-04-25T12:38:25.572688",
     "status": "completed"
    },
    "tags": []
   },
   "outputs": [],
   "source": [
    "#TRAIN A LOGISTIC REGRESSION MODEL\n",
    "from sklearn.linear_model import LogisticRegression\n",
    "from sklearn.pipeline import Pipeline\n",
    "\n",
    "log_reg = Pipeline([\n",
    "    (\"preprocessor1\", preprocessor),\n",
    "    (\"log_reg\", LogisticRegression(max_iter=1000, random_state=42)),\n",
    "])"
   ]
  },
  {
   "cell_type": "code",
   "execution_count": 11,
   "id": "5c09308f",
   "metadata": {
    "execution": {
     "iopub.execute_input": "2025-04-25T12:38:25.609107Z",
     "iopub.status.busy": "2025-04-25T12:38:25.608750Z",
     "iopub.status.idle": "2025-04-25T12:38:26.225759Z",
     "shell.execute_reply": "2025-04-25T12:38:26.224605Z"
    },
    "papermill": {
     "duration": 0.62935,
     "end_time": "2025-04-25T12:38:26.228116",
     "exception": false,
     "start_time": "2025-04-25T12:38:25.598766",
     "status": "completed"
    },
    "tags": []
   },
   "outputs": [
    {
     "name": "stdout",
     "output_type": "stream",
     "text": [
      "Confusion Matrix For Logistic Regression:\n",
      " [[325  74]\n",
      " [ 48 373]]\n",
      "Recall: 0.8859857482185273\n",
      "Precision:  0.8344519015659956\n"
     ]
    }
   ],
   "source": [
    "#EVALUATE THE MODEL\n",
    "from sklearn.model_selection import cross_val_predict\n",
    "y_train_pred_1 = cross_val_predict(log_reg, X_train, y_train, cv=3)\n",
    "\n",
    "from sklearn.metrics import confusion_matrix\n",
    "cm_log_reg = confusion_matrix(y_train, y_train_pred_1)\n",
    "\n",
    "print(\"Confusion Matrix For Logistic Regression:\\n\", cm_log_reg)\n",
    "from sklearn.metrics import precision_score, recall_score\n",
    "pre_log_reg = precision_score(y_train, y_train_pred_1)\n",
    "rec_log_reg = recall_score(y_train, y_train_pred_1)\n",
    "\n",
    "print(f\"Recall: {rec_log_reg}\")\n",
    "print(f\"Precision:  {pre_log_reg}\")"
   ]
  },
  {
   "cell_type": "code",
   "execution_count": 12,
   "id": "cc14a703",
   "metadata": {
    "execution": {
     "iopub.execute_input": "2025-04-25T12:38:26.258815Z",
     "iopub.status.busy": "2025-04-25T12:38:26.258459Z",
     "iopub.status.idle": "2025-04-25T12:38:26.277119Z",
     "shell.execute_reply": "2025-04-25T12:38:26.276320Z"
    },
    "papermill": {
     "duration": 0.036454,
     "end_time": "2025-04-25T12:38:26.278963",
     "exception": false,
     "start_time": "2025-04-25T12:38:26.242509",
     "status": "completed"
    },
    "tags": []
   },
   "outputs": [
    {
     "name": "stdout",
     "output_type": "stream",
     "text": [
      "Classification Report, Logistic Regression:\n",
      "              precision    recall  f1-score   support\n",
      "\n",
      "           0       0.87      0.81      0.84       399\n",
      "           1       0.83      0.89      0.86       421\n",
      "\n",
      "    accuracy                           0.85       820\n",
      "   macro avg       0.85      0.85      0.85       820\n",
      "weighted avg       0.85      0.85      0.85       820\n",
      "\n"
     ]
    }
   ],
   "source": [
    "from sklearn.metrics import classification_report\n",
    "\n",
    "print(\"Classification Report, Logistic Regression:\")\n",
    "print(classification_report(y_train, y_train_pred_1))"
   ]
  },
  {
   "cell_type": "markdown",
   "id": "56328c9f",
   "metadata": {
    "papermill": {
     "duration": 0.015178,
     "end_time": "2025-04-25T12:38:26.309130",
     "exception": false,
     "start_time": "2025-04-25T12:38:26.293952",
     "status": "completed"
    },
    "tags": []
   },
   "source": [
    "### Random forest classifier"
   ]
  },
  {
   "cell_type": "code",
   "execution_count": 13,
   "id": "51145d10",
   "metadata": {
    "execution": {
     "iopub.execute_input": "2025-04-25T12:38:26.400602Z",
     "iopub.status.busy": "2025-04-25T12:38:26.400292Z",
     "iopub.status.idle": "2025-04-25T12:38:26.582883Z",
     "shell.execute_reply": "2025-04-25T12:38:26.582044Z"
    },
    "papermill": {
     "duration": 0.194323,
     "end_time": "2025-04-25T12:38:26.584825",
     "exception": false,
     "start_time": "2025-04-25T12:38:26.390502",
     "status": "completed"
    },
    "tags": []
   },
   "outputs": [],
   "source": [
    "#TRAIN A RANDOM FOREST CLASSIFIER\n",
    "from sklearn.ensemble import RandomForestClassifier\n",
    "from sklearn.pipeline import Pipeline\n",
    "\n",
    "rf_clf = Pipeline([\n",
    "    (\"preprocessor2\", preprocessor),\n",
    "    (\"rf_clf\", RandomForestClassifier(random_state=42)),\n",
    "])"
   ]
  },
  {
   "cell_type": "code",
   "execution_count": 14,
   "id": "48380063",
   "metadata": {
    "execution": {
     "iopub.execute_input": "2025-04-25T12:38:26.604789Z",
     "iopub.status.busy": "2025-04-25T12:38:26.604054Z",
     "iopub.status.idle": "2025-04-25T12:38:27.205468Z",
     "shell.execute_reply": "2025-04-25T12:38:27.203907Z"
    },
    "papermill": {
     "duration": 0.612903,
     "end_time": "2025-04-25T12:38:27.207062",
     "exception": false,
     "start_time": "2025-04-25T12:38:26.594159",
     "status": "completed"
    },
    "tags": []
   },
   "outputs": [
    {
     "name": "stdout",
     "output_type": "stream",
     "text": [
      "Confusion matrix for random forest regressor:\n",
      " [[383  16]\n",
      " [ 16 405]]\n",
      "Recall: 0.9619952494061758\n",
      "Precision:  0.9619952494061758\n"
     ]
    }
   ],
   "source": [
    "#EVALUATING THE MODEL\n",
    "y_train_pred_2 = cross_val_predict(rf_clf, X_train, y_train, cv=3)\n",
    "cm_rf_clf = confusion_matrix(y_train, y_train_pred_2)\n",
    "print(\"Confusion matrix for random forest regressor:\\n\", cm_rf_clf)\n",
    "\n",
    "pre_rf_clf = precision_score(y_train, y_train_pred_2)\n",
    "rec_rf_clf = recall_score(y_train, y_train_pred_2)\n",
    "print(f\"Recall: {rec_rf_clf}\")\n",
    "print(f\"Precision:  {pre_rf_clf}\")"
   ]
  },
  {
   "cell_type": "code",
   "execution_count": 15,
   "id": "4c552454",
   "metadata": {
    "execution": {
     "iopub.execute_input": "2025-04-25T12:38:27.227191Z",
     "iopub.status.busy": "2025-04-25T12:38:27.226842Z",
     "iopub.status.idle": "2025-04-25T12:38:27.240129Z",
     "shell.execute_reply": "2025-04-25T12:38:27.239104Z"
    },
    "papermill": {
     "duration": 0.025067,
     "end_time": "2025-04-25T12:38:27.241772",
     "exception": false,
     "start_time": "2025-04-25T12:38:27.216705",
     "status": "completed"
    },
    "tags": []
   },
   "outputs": [
    {
     "name": "stdout",
     "output_type": "stream",
     "text": [
      "Classification Report, Random Forest:\n",
      "              precision    recall  f1-score   support\n",
      "\n",
      "           0       0.96      0.96      0.96       399\n",
      "           1       0.96      0.96      0.96       421\n",
      "\n",
      "    accuracy                           0.96       820\n",
      "   macro avg       0.96      0.96      0.96       820\n",
      "weighted avg       0.96      0.96      0.96       820\n",
      "\n"
     ]
    }
   ],
   "source": [
    "print(\"Classification Report, Random Forest:\")\n",
    "print(classification_report(y_train, y_train_pred_2))"
   ]
  },
  {
   "cell_type": "markdown",
   "id": "b7cdd2aa",
   "metadata": {
    "papermill": {
     "duration": 0.009534,
     "end_time": "2025-04-25T12:38:27.260756",
     "exception": false,
     "start_time": "2025-04-25T12:38:27.251222",
     "status": "completed"
    },
    "tags": []
   },
   "source": [
    "### SVC classifier"
   ]
  },
  {
   "cell_type": "code",
   "execution_count": 16,
   "id": "2457f10f",
   "metadata": {
    "execution": {
     "iopub.execute_input": "2025-04-25T12:38:27.280854Z",
     "iopub.status.busy": "2025-04-25T12:38:27.280511Z",
     "iopub.status.idle": "2025-04-25T12:38:27.285834Z",
     "shell.execute_reply": "2025-04-25T12:38:27.284912Z"
    },
    "papermill": {
     "duration": 0.01731,
     "end_time": "2025-04-25T12:38:27.287397",
     "exception": false,
     "start_time": "2025-04-25T12:38:27.270087",
     "status": "completed"
    },
    "tags": []
   },
   "outputs": [],
   "source": [
    "#TRAIN A SVC CLASSIFIER\n",
    "from sklearn.svm import SVC\n",
    "from sklearn.pipeline import Pipeline\n",
    "\n",
    "svc_clf = Pipeline([\n",
    "    (\"prepocessor3\", preprocessor),\n",
    "    (\"svc_clf\", SVC(random_state=42, probability=True)),\n",
    "])"
   ]
  },
  {
   "cell_type": "code",
   "execution_count": 17,
   "id": "573ce650",
   "metadata": {
    "execution": {
     "iopub.execute_input": "2025-04-25T12:38:27.307344Z",
     "iopub.status.busy": "2025-04-25T12:38:27.307017Z",
     "iopub.status.idle": "2025-04-25T12:38:27.505192Z",
     "shell.execute_reply": "2025-04-25T12:38:27.504085Z"
    },
    "papermill": {
     "duration": 0.210294,
     "end_time": "2025-04-25T12:38:27.506842",
     "exception": false,
     "start_time": "2025-04-25T12:38:27.296548",
     "status": "completed"
    },
    "tags": []
   },
   "outputs": [
    {
     "name": "stdout",
     "output_type": "stream",
     "text": [
      "Confusion matrix for the SVC regressor:\n",
      " [[343  56]\n",
      " [ 31 390]]\n",
      "Recall: 0.9263657957244655\n",
      "Precision:  0.874439461883408\n"
     ]
    }
   ],
   "source": [
    "#EVALUATE THE MODEL\n",
    "y_train_pred_3 = cross_val_predict(svc_clf, X_train, y_train, cv=3)\n",
    "cm_svc_clf = confusion_matrix(y_train, y_train_pred_3)\n",
    "print(\"Confusion matrix for the SVC regressor:\\n\", cm_svc_clf)\n",
    "\n",
    "pre_svc_clf = precision_score(y_train, y_train_pred_3)\n",
    "rec_svc_clf = recall_score(y_train, y_train_pred_3)\n",
    "print(f\"Recall: {rec_svc_clf}\")\n",
    "print(f\"Precision:  {pre_svc_clf}\")"
   ]
  },
  {
   "cell_type": "code",
   "execution_count": 18,
   "id": "bf39efc1",
   "metadata": {
    "execution": {
     "iopub.execute_input": "2025-04-25T12:38:27.527744Z",
     "iopub.status.busy": "2025-04-25T12:38:27.527369Z",
     "iopub.status.idle": "2025-04-25T12:38:27.541657Z",
     "shell.execute_reply": "2025-04-25T12:38:27.540354Z"
    },
    "papermill": {
     "duration": 0.026752,
     "end_time": "2025-04-25T12:38:27.543298",
     "exception": false,
     "start_time": "2025-04-25T12:38:27.516546",
     "status": "completed"
    },
    "tags": []
   },
   "outputs": [
    {
     "name": "stdout",
     "output_type": "stream",
     "text": [
      "Classification Report, SVC:\n",
      "              precision    recall  f1-score   support\n",
      "\n",
      "           0       0.92      0.86      0.89       399\n",
      "           1       0.87      0.93      0.90       421\n",
      "\n",
      "    accuracy                           0.89       820\n",
      "   macro avg       0.90      0.89      0.89       820\n",
      "weighted avg       0.90      0.89      0.89       820\n",
      "\n"
     ]
    }
   ],
   "source": [
    "print(\"Classification Report, SVC:\")\n",
    "print(classification_report(y_train, y_train_pred_3))"
   ]
  },
  {
   "cell_type": "markdown",
   "id": "ae4ce17e",
   "metadata": {
    "papermill": {
     "duration": 0.008895,
     "end_time": "2025-04-25T12:38:27.561323",
     "exception": false,
     "start_time": "2025-04-25T12:38:27.552428",
     "status": "completed"
    },
    "tags": []
   },
   "source": [
    "### KNeighbors classifier"
   ]
  },
  {
   "cell_type": "code",
   "execution_count": 19,
   "id": "1a82ba62",
   "metadata": {
    "execution": {
     "iopub.execute_input": "2025-04-25T12:38:27.581507Z",
     "iopub.status.busy": "2025-04-25T12:38:27.581199Z",
     "iopub.status.idle": "2025-04-25T12:38:27.586025Z",
     "shell.execute_reply": "2025-04-25T12:38:27.584965Z"
    },
    "papermill": {
     "duration": 0.016924,
     "end_time": "2025-04-25T12:38:27.587551",
     "exception": false,
     "start_time": "2025-04-25T12:38:27.570627",
     "status": "completed"
    },
    "tags": []
   },
   "outputs": [],
   "source": [
    "#TRAIN A KNeighborsClassifier MODEL\n",
    "from sklearn.neighbors import KNeighborsClassifier\n",
    "from sklearn.pipeline import Pipeline\n",
    "\n",
    "knn_clf = Pipeline([\n",
    "    (\"preprocessor4\", preprocessor),\n",
    "    (\"knn_clf\", KNeighborsClassifier()),\n",
    "])  "
   ]
  },
  {
   "cell_type": "code",
   "execution_count": 20,
   "id": "a3bdd058",
   "metadata": {
    "execution": {
     "iopub.execute_input": "2025-04-25T12:38:27.607749Z",
     "iopub.status.busy": "2025-04-25T12:38:27.607308Z",
     "iopub.status.idle": "2025-04-25T12:38:27.782213Z",
     "shell.execute_reply": "2025-04-25T12:38:27.780946Z"
    },
    "papermill": {
     "duration": 0.187014,
     "end_time": "2025-04-25T12:38:27.783774",
     "exception": false,
     "start_time": "2025-04-25T12:38:27.596760",
     "status": "completed"
    },
    "tags": []
   },
   "outputs": [
    {
     "name": "stdout",
     "output_type": "stream",
     "text": [
      "Confusion matrix for KNeighborsClassifier:\n",
      " [[327  72]\n",
      " [ 64 357]]\n",
      "Recall: 0.8479809976247031\n",
      "Precision:  0.8321678321678322\n"
     ]
    }
   ],
   "source": [
    "#EVALUATE THE MODEL\n",
    "\n",
    "y_train_pred_4 = cross_val_predict(knn_clf, X_train, y_train, cv=3)\n",
    "cm_knn_clf = confusion_matrix(y_train, y_train_pred_4)\n",
    "print(\"Confusion matrix for KNeighborsClassifier:\\n\", cm_knn_clf)\n",
    "rec_knn_clf = recall_score(y_train, y_train_pred_4)\n",
    "pre_knn_clf = precision_score(y_train, y_train_pred_4)\n",
    "print(f\"Recall: {rec_knn_clf}\")\n",
    "print(f\"Precision:  {pre_knn_clf}\")"
   ]
  },
  {
   "cell_type": "code",
   "execution_count": 21,
   "id": "afb23235",
   "metadata": {
    "execution": {
     "iopub.execute_input": "2025-04-25T12:38:27.803425Z",
     "iopub.status.busy": "2025-04-25T12:38:27.803114Z",
     "iopub.status.idle": "2025-04-25T12:38:27.816604Z",
     "shell.execute_reply": "2025-04-25T12:38:27.815475Z"
    },
    "papermill": {
     "duration": 0.025125,
     "end_time": "2025-04-25T12:38:27.818256",
     "exception": false,
     "start_time": "2025-04-25T12:38:27.793131",
     "status": "completed"
    },
    "tags": []
   },
   "outputs": [
    {
     "name": "stdout",
     "output_type": "stream",
     "text": [
      "Classification Report, KNeighborsClassifier:\n",
      "              precision    recall  f1-score   support\n",
      "\n",
      "           0       0.84      0.82      0.83       399\n",
      "           1       0.83      0.85      0.84       421\n",
      "\n",
      "    accuracy                           0.83       820\n",
      "   macro avg       0.83      0.83      0.83       820\n",
      "weighted avg       0.83      0.83      0.83       820\n",
      "\n"
     ]
    }
   ],
   "source": [
    "print(\"Classification Report, KNeighborsClassifier:\")\n",
    "print(classification_report(y_train, y_train_pred_4))"
   ]
  },
  {
   "cell_type": "markdown",
   "id": "19a4898b",
   "metadata": {
    "papermill": {
     "duration": 0.009033,
     "end_time": "2025-04-25T12:38:27.836858",
     "exception": false,
     "start_time": "2025-04-25T12:38:27.827825",
     "status": "completed"
    },
    "tags": []
   },
   "source": [
    "### GradientBoosting classifier"
   ]
  },
  {
   "cell_type": "code",
   "execution_count": 22,
   "id": "b2a7f501",
   "metadata": {
    "execution": {
     "iopub.execute_input": "2025-04-25T12:38:27.858538Z",
     "iopub.status.busy": "2025-04-25T12:38:27.858251Z",
     "iopub.status.idle": "2025-04-25T12:38:27.863799Z",
     "shell.execute_reply": "2025-04-25T12:38:27.862802Z"
    },
    "papermill": {
     "duration": 0.018601,
     "end_time": "2025-04-25T12:38:27.865512",
     "exception": false,
     "start_time": "2025-04-25T12:38:27.846911",
     "status": "completed"
    },
    "tags": []
   },
   "outputs": [],
   "source": [
    "#TRAIN A GradientBoostingClassifier MODEL\n",
    "from sklearn.ensemble import GradientBoostingClassifier\n",
    "from sklearn.pipeline import Pipeline\n",
    "\n",
    "gb_clf = Pipeline([\n",
    "    (\"preprocessor5\", preprocessor),\n",
    "    (\"gb_clf\", GradientBoostingClassifier(random_state=42)),\n",
    "])"
   ]
  },
  {
   "cell_type": "code",
   "execution_count": 23,
   "id": "7fac27a7",
   "metadata": {
    "execution": {
     "iopub.execute_input": "2025-04-25T12:38:27.886148Z",
     "iopub.status.busy": "2025-04-25T12:38:27.885762Z",
     "iopub.status.idle": "2025-04-25T12:38:28.423005Z",
     "shell.execute_reply": "2025-04-25T12:38:28.421670Z"
    },
    "papermill": {
     "duration": 0.549301,
     "end_time": "2025-04-25T12:38:28.424778",
     "exception": false,
     "start_time": "2025-04-25T12:38:27.875477",
     "status": "completed"
    },
    "tags": []
   },
   "outputs": [
    {
     "name": "stdout",
     "output_type": "stream",
     "text": [
      "Confusion matrix for GradientBoostingClassifier:\n",
      " [[374  25]\n",
      " [ 17 404]]\n",
      "Recall: 0.9596199524940617\n",
      "Precision:  0.9417249417249417\n"
     ]
    }
   ],
   "source": [
    "#EVALUATE THE MODEL\n",
    "y_train_pred_5 = cross_val_predict(gb_clf, X_train, y_train, cv=3)\n",
    "cm_gb_clf = confusion_matrix(y_train, y_train_pred_5)\n",
    "print(\"Confusion matrix for GradientBoostingClassifier:\\n\", cm_gb_clf)\n",
    "rec_gb_clf = recall_score(y_train, y_train_pred_5)\n",
    "pre_gb_clf = precision_score(y_train, y_train_pred_5)\n",
    "print(f\"Recall: {rec_gb_clf}\")\n",
    "print(f\"Precision:  {pre_gb_clf}\")"
   ]
  },
  {
   "cell_type": "code",
   "execution_count": 24,
   "id": "943df697",
   "metadata": {
    "execution": {
     "iopub.execute_input": "2025-04-25T12:38:28.444824Z",
     "iopub.status.busy": "2025-04-25T12:38:28.444505Z",
     "iopub.status.idle": "2025-04-25T12:38:28.457632Z",
     "shell.execute_reply": "2025-04-25T12:38:28.456582Z"
    },
    "papermill": {
     "duration": 0.025071,
     "end_time": "2025-04-25T12:38:28.459317",
     "exception": false,
     "start_time": "2025-04-25T12:38:28.434246",
     "status": "completed"
    },
    "tags": []
   },
   "outputs": [
    {
     "name": "stdout",
     "output_type": "stream",
     "text": [
      "Classification Report, GradientBoostingClassifier: \n",
      "              precision    recall  f1-score   support\n",
      "\n",
      "           0       0.96      0.94      0.95       399\n",
      "           1       0.94      0.96      0.95       421\n",
      "\n",
      "    accuracy                           0.95       820\n",
      "   macro avg       0.95      0.95      0.95       820\n",
      "weighted avg       0.95      0.95      0.95       820\n",
      "\n"
     ]
    }
   ],
   "source": [
    "print(\"Classification Report, GradientBoostingClassifier: \")\n",
    "print(classification_report(y_train, y_train_pred_5))"
   ]
  },
  {
   "cell_type": "markdown",
   "id": "7c832d88",
   "metadata": {
    "papermill": {
     "duration": 0.009167,
     "end_time": "2025-04-25T12:38:28.477823",
     "exception": false,
     "start_time": "2025-04-25T12:38:28.468656",
     "status": "completed"
    },
    "tags": []
   },
   "source": [
    "### Compare all the models"
   ]
  },
  {
   "cell_type": "code",
   "execution_count": 25,
   "id": "dac2474d",
   "metadata": {
    "execution": {
     "iopub.execute_input": "2025-04-25T12:38:28.499225Z",
     "iopub.status.busy": "2025-04-25T12:38:28.498849Z",
     "iopub.status.idle": "2025-04-25T12:38:28.518354Z",
     "shell.execute_reply": "2025-04-25T12:38:28.517208Z"
    },
    "papermill": {
     "duration": 0.031884,
     "end_time": "2025-04-25T12:38:28.520157",
     "exception": false,
     "start_time": "2025-04-25T12:38:28.488273",
     "status": "completed"
    },
    "tags": []
   },
   "outputs": [
    {
     "name": "stdout",
     "output_type": "stream",
     "text": [
      "F1 Logistic Regression: 0.8594470046082949\n",
      "F1 Random Forest: 0.9619952494061758\n",
      "F1 SVC: 0.8996539792387542\n",
      "F1 KNeighborsClassifier: 0.84\n",
      "F1 GradientBoostingClassifier: 0.9505882352941176\n"
     ]
    }
   ],
   "source": [
    "from sklearn.metrics import f1_score\n",
    "\n",
    "print(\"F1 Logistic Regression:\", f1_score(y_train, y_train_pred_1))\n",
    "print(\"F1 Random Forest:\", f1_score(y_train, y_train_pred_2))\n",
    "print(\"F1 SVC:\", f1_score(y_train, y_train_pred_3))\n",
    "print(\"F1 KNeighborsClassifier:\", f1_score(y_train, y_train_pred_4))\n",
    "print(\"F1 GradientBoostingClassifier:\", f1_score(y_train, y_train_pred_5))"
   ]
  },
  {
   "cell_type": "markdown",
   "id": "34fc545c",
   "metadata": {
    "papermill": {
     "duration": 0.009399,
     "end_time": "2025-04-25T12:38:28.539073",
     "exception": false,
     "start_time": "2025-04-25T12:38:28.529674",
     "status": "completed"
    },
    "tags": []
   },
   "source": [
    "## WE UNDERSTAND THAT RANDOM FORSET CLASSIFIER IS THE BEST MODEL"
   ]
  },
  {
   "cell_type": "markdown",
   "id": "2d9486c7",
   "metadata": {
    "papermill": {
     "duration": 0.009344,
     "end_time": "2025-04-25T12:38:28.557687",
     "exception": false,
     "start_time": "2025-04-25T12:38:28.548343",
     "status": "completed"
    },
    "tags": []
   },
   "source": [
    "### Choice of the best parameters"
   ]
  },
  {
   "cell_type": "code",
   "execution_count": 26,
   "id": "143ef588",
   "metadata": {
    "execution": {
     "iopub.execute_input": "2025-04-25T12:38:28.577634Z",
     "iopub.status.busy": "2025-04-25T12:38:28.577298Z",
     "iopub.status.idle": "2025-04-25T12:40:10.954017Z",
     "shell.execute_reply": "2025-04-25T12:40:10.952826Z"
    },
    "papermill": {
     "duration": 102.398821,
     "end_time": "2025-04-25T12:40:10.965791",
     "exception": false,
     "start_time": "2025-04-25T12:38:28.566970",
     "status": "completed"
    },
    "tags": []
   },
   "outputs": [
    {
     "name": "stdout",
     "output_type": "stream",
     "text": [
      "Fitting 3 folds for each of 216 candidates, totalling 648 fits\n"
     ]
    },
    {
     "data": {
      "text/html": [
       "<style>#sk-container-id-1 {color: black;background-color: white;}#sk-container-id-1 pre{padding: 0;}#sk-container-id-1 div.sk-toggleable {background-color: white;}#sk-container-id-1 label.sk-toggleable__label {cursor: pointer;display: block;width: 100%;margin-bottom: 0;padding: 0.3em;box-sizing: border-box;text-align: center;}#sk-container-id-1 label.sk-toggleable__label-arrow:before {content: \"▸\";float: left;margin-right: 0.25em;color: #696969;}#sk-container-id-1 label.sk-toggleable__label-arrow:hover:before {color: black;}#sk-container-id-1 div.sk-estimator:hover label.sk-toggleable__label-arrow:before {color: black;}#sk-container-id-1 div.sk-toggleable__content {max-height: 0;max-width: 0;overflow: hidden;text-align: left;background-color: #f0f8ff;}#sk-container-id-1 div.sk-toggleable__content pre {margin: 0.2em;color: black;border-radius: 0.25em;background-color: #f0f8ff;}#sk-container-id-1 input.sk-toggleable__control:checked~div.sk-toggleable__content {max-height: 200px;max-width: 100%;overflow: auto;}#sk-container-id-1 input.sk-toggleable__control:checked~label.sk-toggleable__label-arrow:before {content: \"▾\";}#sk-container-id-1 div.sk-estimator input.sk-toggleable__control:checked~label.sk-toggleable__label {background-color: #d4ebff;}#sk-container-id-1 div.sk-label input.sk-toggleable__control:checked~label.sk-toggleable__label {background-color: #d4ebff;}#sk-container-id-1 input.sk-hidden--visually {border: 0;clip: rect(1px 1px 1px 1px);clip: rect(1px, 1px, 1px, 1px);height: 1px;margin: -1px;overflow: hidden;padding: 0;position: absolute;width: 1px;}#sk-container-id-1 div.sk-estimator {font-family: monospace;background-color: #f0f8ff;border: 1px dotted black;border-radius: 0.25em;box-sizing: border-box;margin-bottom: 0.5em;}#sk-container-id-1 div.sk-estimator:hover {background-color: #d4ebff;}#sk-container-id-1 div.sk-parallel-item::after {content: \"\";width: 100%;border-bottom: 1px solid gray;flex-grow: 1;}#sk-container-id-1 div.sk-label:hover label.sk-toggleable__label {background-color: #d4ebff;}#sk-container-id-1 div.sk-serial::before {content: \"\";position: absolute;border-left: 1px solid gray;box-sizing: border-box;top: 0;bottom: 0;left: 50%;z-index: 0;}#sk-container-id-1 div.sk-serial {display: flex;flex-direction: column;align-items: center;background-color: white;padding-right: 0.2em;padding-left: 0.2em;position: relative;}#sk-container-id-1 div.sk-item {position: relative;z-index: 1;}#sk-container-id-1 div.sk-parallel {display: flex;align-items: stretch;justify-content: center;background-color: white;position: relative;}#sk-container-id-1 div.sk-item::before, #sk-container-id-1 div.sk-parallel-item::before {content: \"\";position: absolute;border-left: 1px solid gray;box-sizing: border-box;top: 0;bottom: 0;left: 50%;z-index: -1;}#sk-container-id-1 div.sk-parallel-item {display: flex;flex-direction: column;z-index: 1;position: relative;background-color: white;}#sk-container-id-1 div.sk-parallel-item:first-child::after {align-self: flex-end;width: 50%;}#sk-container-id-1 div.sk-parallel-item:last-child::after {align-self: flex-start;width: 50%;}#sk-container-id-1 div.sk-parallel-item:only-child::after {width: 0;}#sk-container-id-1 div.sk-dashed-wrapped {border: 1px dashed gray;margin: 0 0.4em 0.5em 0.4em;box-sizing: border-box;padding-bottom: 0.4em;background-color: white;}#sk-container-id-1 div.sk-label label {font-family: monospace;font-weight: bold;display: inline-block;line-height: 1.2em;}#sk-container-id-1 div.sk-label-container {text-align: center;}#sk-container-id-1 div.sk-container {/* jupyter's `normalize.less` sets `[hidden] { display: none; }` but bootstrap.min.css set `[hidden] { display: none !important; }` so we also need the `!important` here to be able to override the default hidden behavior on the sphinx rendered scikit-learn.org. See: https://github.com/scikit-learn/scikit-learn/issues/21755 */display: inline-block !important;position: relative;}#sk-container-id-1 div.sk-text-repr-fallback {display: none;}</style><div id=\"sk-container-id-1\" class=\"sk-top-container\"><div class=\"sk-text-repr-fallback\"><pre>GridSearchCV(cv=3,\n",
       "             estimator=Pipeline(steps=[(&#x27;preprocessor2&#x27;,\n",
       "                                        ColumnTransformer(transformers=[(&#x27;log&#x27;,\n",
       "                                                                         Pipeline(steps=[(&#x27;simpleimputer&#x27;,\n",
       "                                                                                          SimpleImputer(strategy=&#x27;median&#x27;)),\n",
       "                                                                                         (&#x27;functiontransformer&#x27;,\n",
       "                                                                                          FunctionTransformer(feature_names_out=&#x27;one-to-one&#x27;,\n",
       "                                                                                                              func=&lt;ufunc &#x27;log1p&#x27;&gt;)),\n",
       "                                                                                         (&#x27;standardscaler&#x27;,\n",
       "                                                                                          StandardScaler())]),\n",
       "                                                                         [&#x27;fbs&#x27;,\n",
       "                                                                          &#x27;oldpeak&#x27;,\n",
       "                                                                          &#x27;ca&#x27;,\n",
       "                                                                          &#x27;chol&#x27;]),\n",
       "                                                                        (&#x27;num&#x27;,\n",
       "                                                                         Pipeline(st...\n",
       "                                                                         &lt;sklearn.compose._column_transformer.make_column_selector object at 0x7c23583a57d0&gt;)])),\n",
       "                                       (&#x27;rf_clf&#x27;,\n",
       "                                        RandomForestClassifier(random_state=42))]),\n",
       "             n_jobs=-1,\n",
       "             param_grid={&#x27;rf_clf__bootstrap&#x27;: [True, False],\n",
       "                         &#x27;rf_clf__max_depth&#x27;: [None, 10, 20, 30],\n",
       "                         &#x27;rf_clf__min_samples_leaf&#x27;: [1, 2, 4],\n",
       "                         &#x27;rf_clf__min_samples_split&#x27;: [2, 5, 10],\n",
       "                         &#x27;rf_clf__n_estimators&#x27;: [100, 200, 300]},\n",
       "             scoring=&#x27;f1&#x27;, verbose=1)</pre><b>In a Jupyter environment, please rerun this cell to show the HTML representation or trust the notebook. <br />On GitHub, the HTML representation is unable to render, please try loading this page with nbviewer.org.</b></div><div class=\"sk-container\" hidden><div class=\"sk-item sk-dashed-wrapped\"><div class=\"sk-label-container\"><div class=\"sk-label sk-toggleable\"><input class=\"sk-toggleable__control sk-hidden--visually\" id=\"sk-estimator-id-1\" type=\"checkbox\" ><label for=\"sk-estimator-id-1\" class=\"sk-toggleable__label sk-toggleable__label-arrow\">GridSearchCV</label><div class=\"sk-toggleable__content\"><pre>GridSearchCV(cv=3,\n",
       "             estimator=Pipeline(steps=[(&#x27;preprocessor2&#x27;,\n",
       "                                        ColumnTransformer(transformers=[(&#x27;log&#x27;,\n",
       "                                                                         Pipeline(steps=[(&#x27;simpleimputer&#x27;,\n",
       "                                                                                          SimpleImputer(strategy=&#x27;median&#x27;)),\n",
       "                                                                                         (&#x27;functiontransformer&#x27;,\n",
       "                                                                                          FunctionTransformer(feature_names_out=&#x27;one-to-one&#x27;,\n",
       "                                                                                                              func=&lt;ufunc &#x27;log1p&#x27;&gt;)),\n",
       "                                                                                         (&#x27;standardscaler&#x27;,\n",
       "                                                                                          StandardScaler())]),\n",
       "                                                                         [&#x27;fbs&#x27;,\n",
       "                                                                          &#x27;oldpeak&#x27;,\n",
       "                                                                          &#x27;ca&#x27;,\n",
       "                                                                          &#x27;chol&#x27;]),\n",
       "                                                                        (&#x27;num&#x27;,\n",
       "                                                                         Pipeline(st...\n",
       "                                                                         &lt;sklearn.compose._column_transformer.make_column_selector object at 0x7c23583a57d0&gt;)])),\n",
       "                                       (&#x27;rf_clf&#x27;,\n",
       "                                        RandomForestClassifier(random_state=42))]),\n",
       "             n_jobs=-1,\n",
       "             param_grid={&#x27;rf_clf__bootstrap&#x27;: [True, False],\n",
       "                         &#x27;rf_clf__max_depth&#x27;: [None, 10, 20, 30],\n",
       "                         &#x27;rf_clf__min_samples_leaf&#x27;: [1, 2, 4],\n",
       "                         &#x27;rf_clf__min_samples_split&#x27;: [2, 5, 10],\n",
       "                         &#x27;rf_clf__n_estimators&#x27;: [100, 200, 300]},\n",
       "             scoring=&#x27;f1&#x27;, verbose=1)</pre></div></div></div><div class=\"sk-parallel\"><div class=\"sk-parallel-item\"><div class=\"sk-item\"><div class=\"sk-label-container\"><div class=\"sk-label sk-toggleable\"><input class=\"sk-toggleable__control sk-hidden--visually\" id=\"sk-estimator-id-2\" type=\"checkbox\" ><label for=\"sk-estimator-id-2\" class=\"sk-toggleable__label sk-toggleable__label-arrow\">estimator: Pipeline</label><div class=\"sk-toggleable__content\"><pre>Pipeline(steps=[(&#x27;preprocessor2&#x27;,\n",
       "                 ColumnTransformer(transformers=[(&#x27;log&#x27;,\n",
       "                                                  Pipeline(steps=[(&#x27;simpleimputer&#x27;,\n",
       "                                                                   SimpleImputer(strategy=&#x27;median&#x27;)),\n",
       "                                                                  (&#x27;functiontransformer&#x27;,\n",
       "                                                                   FunctionTransformer(feature_names_out=&#x27;one-to-one&#x27;,\n",
       "                                                                                       func=&lt;ufunc &#x27;log1p&#x27;&gt;)),\n",
       "                                                                  (&#x27;standardscaler&#x27;,\n",
       "                                                                   StandardScaler())]),\n",
       "                                                  [&#x27;fbs&#x27;, &#x27;oldpeak&#x27;, &#x27;ca&#x27;,\n",
       "                                                   &#x27;chol&#x27;]),\n",
       "                                                 (&#x27;num&#x27;,\n",
       "                                                  Pipeline(steps=[(&#x27;simpleimputer&#x27;,\n",
       "                                                                   SimpleImputer(strategy=&#x27;median&#x27;)),\n",
       "                                                                  (&#x27;standardscaler&#x27;,\n",
       "                                                                   StandardScaler())]),\n",
       "                                                  &lt;sklearn.compose._column_transformer.make_column_selector object at 0x7c23583a57d0&gt;)])),\n",
       "                (&#x27;rf_clf&#x27;, RandomForestClassifier(random_state=42))])</pre></div></div></div><div class=\"sk-serial\"><div class=\"sk-item\"><div class=\"sk-serial\"><div class=\"sk-item sk-dashed-wrapped\"><div class=\"sk-label-container\"><div class=\"sk-label sk-toggleable\"><input class=\"sk-toggleable__control sk-hidden--visually\" id=\"sk-estimator-id-3\" type=\"checkbox\" ><label for=\"sk-estimator-id-3\" class=\"sk-toggleable__label sk-toggleable__label-arrow\">preprocessor2: ColumnTransformer</label><div class=\"sk-toggleable__content\"><pre>ColumnTransformer(transformers=[(&#x27;log&#x27;,\n",
       "                                 Pipeline(steps=[(&#x27;simpleimputer&#x27;,\n",
       "                                                  SimpleImputer(strategy=&#x27;median&#x27;)),\n",
       "                                                 (&#x27;functiontransformer&#x27;,\n",
       "                                                  FunctionTransformer(feature_names_out=&#x27;one-to-one&#x27;,\n",
       "                                                                      func=&lt;ufunc &#x27;log1p&#x27;&gt;)),\n",
       "                                                 (&#x27;standardscaler&#x27;,\n",
       "                                                  StandardScaler())]),\n",
       "                                 [&#x27;fbs&#x27;, &#x27;oldpeak&#x27;, &#x27;ca&#x27;, &#x27;chol&#x27;]),\n",
       "                                (&#x27;num&#x27;,\n",
       "                                 Pipeline(steps=[(&#x27;simpleimputer&#x27;,\n",
       "                                                  SimpleImputer(strategy=&#x27;median&#x27;)),\n",
       "                                                 (&#x27;standardscaler&#x27;,\n",
       "                                                  StandardScaler())]),\n",
       "                                 &lt;sklearn.compose._column_transformer.make_column_selector object at 0x7c23583a57d0&gt;)])</pre></div></div></div><div class=\"sk-parallel\"><div class=\"sk-parallel-item\"><div class=\"sk-item\"><div class=\"sk-label-container\"><div class=\"sk-label sk-toggleable\"><input class=\"sk-toggleable__control sk-hidden--visually\" id=\"sk-estimator-id-4\" type=\"checkbox\" ><label for=\"sk-estimator-id-4\" class=\"sk-toggleable__label sk-toggleable__label-arrow\">log</label><div class=\"sk-toggleable__content\"><pre>[&#x27;fbs&#x27;, &#x27;oldpeak&#x27;, &#x27;ca&#x27;, &#x27;chol&#x27;]</pre></div></div></div><div class=\"sk-serial\"><div class=\"sk-item\"><div class=\"sk-serial\"><div class=\"sk-item\"><div class=\"sk-estimator sk-toggleable\"><input class=\"sk-toggleable__control sk-hidden--visually\" id=\"sk-estimator-id-5\" type=\"checkbox\" ><label for=\"sk-estimator-id-5\" class=\"sk-toggleable__label sk-toggleable__label-arrow\">SimpleImputer</label><div class=\"sk-toggleable__content\"><pre>SimpleImputer(strategy=&#x27;median&#x27;)</pre></div></div></div><div class=\"sk-item\"><div class=\"sk-estimator sk-toggleable\"><input class=\"sk-toggleable__control sk-hidden--visually\" id=\"sk-estimator-id-6\" type=\"checkbox\" ><label for=\"sk-estimator-id-6\" class=\"sk-toggleable__label sk-toggleable__label-arrow\">FunctionTransformer</label><div class=\"sk-toggleable__content\"><pre>FunctionTransformer(feature_names_out=&#x27;one-to-one&#x27;, func=&lt;ufunc &#x27;log1p&#x27;&gt;)</pre></div></div></div><div class=\"sk-item\"><div class=\"sk-estimator sk-toggleable\"><input class=\"sk-toggleable__control sk-hidden--visually\" id=\"sk-estimator-id-7\" type=\"checkbox\" ><label for=\"sk-estimator-id-7\" class=\"sk-toggleable__label sk-toggleable__label-arrow\">StandardScaler</label><div class=\"sk-toggleable__content\"><pre>StandardScaler()</pre></div></div></div></div></div></div></div></div><div class=\"sk-parallel-item\"><div class=\"sk-item\"><div class=\"sk-label-container\"><div class=\"sk-label sk-toggleable\"><input class=\"sk-toggleable__control sk-hidden--visually\" id=\"sk-estimator-id-8\" type=\"checkbox\" ><label for=\"sk-estimator-id-8\" class=\"sk-toggleable__label sk-toggleable__label-arrow\">num</label><div class=\"sk-toggleable__content\"><pre>&lt;sklearn.compose._column_transformer.make_column_selector object at 0x7c23583a57d0&gt;</pre></div></div></div><div class=\"sk-serial\"><div class=\"sk-item\"><div class=\"sk-serial\"><div class=\"sk-item\"><div class=\"sk-estimator sk-toggleable\"><input class=\"sk-toggleable__control sk-hidden--visually\" id=\"sk-estimator-id-9\" type=\"checkbox\" ><label for=\"sk-estimator-id-9\" class=\"sk-toggleable__label sk-toggleable__label-arrow\">SimpleImputer</label><div class=\"sk-toggleable__content\"><pre>SimpleImputer(strategy=&#x27;median&#x27;)</pre></div></div></div><div class=\"sk-item\"><div class=\"sk-estimator sk-toggleable\"><input class=\"sk-toggleable__control sk-hidden--visually\" id=\"sk-estimator-id-10\" type=\"checkbox\" ><label for=\"sk-estimator-id-10\" class=\"sk-toggleable__label sk-toggleable__label-arrow\">StandardScaler</label><div class=\"sk-toggleable__content\"><pre>StandardScaler()</pre></div></div></div></div></div></div></div></div></div></div><div class=\"sk-item\"><div class=\"sk-estimator sk-toggleable\"><input class=\"sk-toggleable__control sk-hidden--visually\" id=\"sk-estimator-id-11\" type=\"checkbox\" ><label for=\"sk-estimator-id-11\" class=\"sk-toggleable__label sk-toggleable__label-arrow\">RandomForestClassifier</label><div class=\"sk-toggleable__content\"><pre>RandomForestClassifier(random_state=42)</pre></div></div></div></div></div></div></div></div></div></div></div></div>"
      ],
      "text/plain": [
       "GridSearchCV(cv=3,\n",
       "             estimator=Pipeline(steps=[('preprocessor2',\n",
       "                                        ColumnTransformer(transformers=[('log',\n",
       "                                                                         Pipeline(steps=[('simpleimputer',\n",
       "                                                                                          SimpleImputer(strategy='median')),\n",
       "                                                                                         ('functiontransformer',\n",
       "                                                                                          FunctionTransformer(feature_names_out='one-to-one',\n",
       "                                                                                                              func=<ufunc 'log1p'>)),\n",
       "                                                                                         ('standardscaler',\n",
       "                                                                                          StandardScaler())]),\n",
       "                                                                         ['fbs',\n",
       "                                                                          'oldpeak',\n",
       "                                                                          'ca',\n",
       "                                                                          'chol']),\n",
       "                                                                        ('num',\n",
       "                                                                         Pipeline(st...\n",
       "                                                                         <sklearn.compose._column_transformer.make_column_selector object at 0x7c23583a57d0>)])),\n",
       "                                       ('rf_clf',\n",
       "                                        RandomForestClassifier(random_state=42))]),\n",
       "             n_jobs=-1,\n",
       "             param_grid={'rf_clf__bootstrap': [True, False],\n",
       "                         'rf_clf__max_depth': [None, 10, 20, 30],\n",
       "                         'rf_clf__min_samples_leaf': [1, 2, 4],\n",
       "                         'rf_clf__min_samples_split': [2, 5, 10],\n",
       "                         'rf_clf__n_estimators': [100, 200, 300]},\n",
       "             scoring='f1', verbose=1)"
      ]
     },
     "execution_count": 26,
     "metadata": {},
     "output_type": "execute_result"
    }
   ],
   "source": [
    "#GRIDSEARCH FOR THE BEST MODEL\n",
    "from sklearn.model_selection import GridSearchCV\n",
    "\n",
    "param_grid = {\n",
    "    \"rf_clf__n_estimators\": [100, 200, 300],\n",
    "    \"rf_clf__max_depth\": [None, 10, 20, 30],\n",
    "    \"rf_clf__min_samples_split\": [2, 5, 10],\n",
    "    \"rf_clf__min_samples_leaf\": [1, 2, 4],\n",
    "    \"rf_clf__bootstrap\": [True, False],\n",
    "}\n",
    "\n",
    "grid_search = GridSearchCV(rf_clf, param_grid, cv=3, scoring='f1', n_jobs=-1, verbose=1)\n",
    "grid_search.fit(X_train, y_train)"
   ]
  },
  {
   "cell_type": "code",
   "execution_count": 27,
   "id": "7b0bcd65",
   "metadata": {
    "execution": {
     "iopub.execute_input": "2025-04-25T12:40:10.988227Z",
     "iopub.status.busy": "2025-04-25T12:40:10.987837Z",
     "iopub.status.idle": "2025-04-25T12:40:10.993597Z",
     "shell.execute_reply": "2025-04-25T12:40:10.992698Z"
    },
    "papermill": {
     "duration": 0.01925,
     "end_time": "2025-04-25T12:40:10.995097",
     "exception": false,
     "start_time": "2025-04-25T12:40:10.975847",
     "status": "completed"
    },
    "tags": []
   },
   "outputs": [
    {
     "name": "stdout",
     "output_type": "stream",
     "text": [
      "Best hyperparameters: {'rf_clf__bootstrap': False, 'rf_clf__max_depth': None, 'rf_clf__min_samples_leaf': 1, 'rf_clf__min_samples_split': 2, 'rf_clf__n_estimators': 100}\n",
      "Best F1 score: 0.9715367549666257\n"
     ]
    }
   ],
   "source": [
    "print(\"Best hyperparameters:\", grid_search.best_params_)\n",
    "print(\"Best F1 score:\", grid_search.best_score_)"
   ]
  },
  {
   "cell_type": "markdown",
   "id": "ad56e433",
   "metadata": {
    "papermill": {
     "duration": 0.010648,
     "end_time": "2025-04-25T12:40:11.016466",
     "exception": false,
     "start_time": "2025-04-25T12:40:11.005818",
     "status": "completed"
    },
    "tags": []
   },
   "source": [
    "### Train the best model with the best hyperparameters"
   ]
  },
  {
   "cell_type": "code",
   "execution_count": 28,
   "id": "9412df14",
   "metadata": {
    "execution": {
     "iopub.execute_input": "2025-04-25T12:40:11.039209Z",
     "iopub.status.busy": "2025-04-25T12:40:11.038740Z",
     "iopub.status.idle": "2025-04-25T12:40:11.279330Z",
     "shell.execute_reply": "2025-04-25T12:40:11.277805Z"
    },
    "papermill": {
     "duration": 0.253208,
     "end_time": "2025-04-25T12:40:11.280917",
     "exception": false,
     "start_time": "2025-04-25T12:40:11.027709",
     "status": "completed"
    },
    "tags": []
   },
   "outputs": [
    {
     "data": {
      "text/html": [
       "<style>#sk-container-id-2 {color: black;background-color: white;}#sk-container-id-2 pre{padding: 0;}#sk-container-id-2 div.sk-toggleable {background-color: white;}#sk-container-id-2 label.sk-toggleable__label {cursor: pointer;display: block;width: 100%;margin-bottom: 0;padding: 0.3em;box-sizing: border-box;text-align: center;}#sk-container-id-2 label.sk-toggleable__label-arrow:before {content: \"▸\";float: left;margin-right: 0.25em;color: #696969;}#sk-container-id-2 label.sk-toggleable__label-arrow:hover:before {color: black;}#sk-container-id-2 div.sk-estimator:hover label.sk-toggleable__label-arrow:before {color: black;}#sk-container-id-2 div.sk-toggleable__content {max-height: 0;max-width: 0;overflow: hidden;text-align: left;background-color: #f0f8ff;}#sk-container-id-2 div.sk-toggleable__content pre {margin: 0.2em;color: black;border-radius: 0.25em;background-color: #f0f8ff;}#sk-container-id-2 input.sk-toggleable__control:checked~div.sk-toggleable__content {max-height: 200px;max-width: 100%;overflow: auto;}#sk-container-id-2 input.sk-toggleable__control:checked~label.sk-toggleable__label-arrow:before {content: \"▾\";}#sk-container-id-2 div.sk-estimator input.sk-toggleable__control:checked~label.sk-toggleable__label {background-color: #d4ebff;}#sk-container-id-2 div.sk-label input.sk-toggleable__control:checked~label.sk-toggleable__label {background-color: #d4ebff;}#sk-container-id-2 input.sk-hidden--visually {border: 0;clip: rect(1px 1px 1px 1px);clip: rect(1px, 1px, 1px, 1px);height: 1px;margin: -1px;overflow: hidden;padding: 0;position: absolute;width: 1px;}#sk-container-id-2 div.sk-estimator {font-family: monospace;background-color: #f0f8ff;border: 1px dotted black;border-radius: 0.25em;box-sizing: border-box;margin-bottom: 0.5em;}#sk-container-id-2 div.sk-estimator:hover {background-color: #d4ebff;}#sk-container-id-2 div.sk-parallel-item::after {content: \"\";width: 100%;border-bottom: 1px solid gray;flex-grow: 1;}#sk-container-id-2 div.sk-label:hover label.sk-toggleable__label {background-color: #d4ebff;}#sk-container-id-2 div.sk-serial::before {content: \"\";position: absolute;border-left: 1px solid gray;box-sizing: border-box;top: 0;bottom: 0;left: 50%;z-index: 0;}#sk-container-id-2 div.sk-serial {display: flex;flex-direction: column;align-items: center;background-color: white;padding-right: 0.2em;padding-left: 0.2em;position: relative;}#sk-container-id-2 div.sk-item {position: relative;z-index: 1;}#sk-container-id-2 div.sk-parallel {display: flex;align-items: stretch;justify-content: center;background-color: white;position: relative;}#sk-container-id-2 div.sk-item::before, #sk-container-id-2 div.sk-parallel-item::before {content: \"\";position: absolute;border-left: 1px solid gray;box-sizing: border-box;top: 0;bottom: 0;left: 50%;z-index: -1;}#sk-container-id-2 div.sk-parallel-item {display: flex;flex-direction: column;z-index: 1;position: relative;background-color: white;}#sk-container-id-2 div.sk-parallel-item:first-child::after {align-self: flex-end;width: 50%;}#sk-container-id-2 div.sk-parallel-item:last-child::after {align-self: flex-start;width: 50%;}#sk-container-id-2 div.sk-parallel-item:only-child::after {width: 0;}#sk-container-id-2 div.sk-dashed-wrapped {border: 1px dashed gray;margin: 0 0.4em 0.5em 0.4em;box-sizing: border-box;padding-bottom: 0.4em;background-color: white;}#sk-container-id-2 div.sk-label label {font-family: monospace;font-weight: bold;display: inline-block;line-height: 1.2em;}#sk-container-id-2 div.sk-label-container {text-align: center;}#sk-container-id-2 div.sk-container {/* jupyter's `normalize.less` sets `[hidden] { display: none; }` but bootstrap.min.css set `[hidden] { display: none !important; }` so we also need the `!important` here to be able to override the default hidden behavior on the sphinx rendered scikit-learn.org. See: https://github.com/scikit-learn/scikit-learn/issues/21755 */display: inline-block !important;position: relative;}#sk-container-id-2 div.sk-text-repr-fallback {display: none;}</style><div id=\"sk-container-id-2\" class=\"sk-top-container\"><div class=\"sk-text-repr-fallback\"><pre>Pipeline(steps=[(&#x27;preprocessor&#x27;,\n",
       "                 ColumnTransformer(transformers=[(&#x27;log&#x27;,\n",
       "                                                  Pipeline(steps=[(&#x27;simpleimputer&#x27;,\n",
       "                                                                   SimpleImputer(strategy=&#x27;median&#x27;)),\n",
       "                                                                  (&#x27;functiontransformer&#x27;,\n",
       "                                                                   FunctionTransformer(feature_names_out=&#x27;one-to-one&#x27;,\n",
       "                                                                                       func=&lt;ufunc &#x27;log1p&#x27;&gt;)),\n",
       "                                                                  (&#x27;standardscaler&#x27;,\n",
       "                                                                   StandardScaler())]),\n",
       "                                                  [&#x27;fbs&#x27;, &#x27;oldpeak&#x27;, &#x27;ca&#x27;,\n",
       "                                                   &#x27;chol&#x27;]),\n",
       "                                                 (&#x27;num&#x27;,\n",
       "                                                  Pipeline(steps=[(&#x27;simpleimputer&#x27;,\n",
       "                                                                   SimpleImputer(strategy=&#x27;median&#x27;)),\n",
       "                                                                  (&#x27;standardscaler&#x27;,\n",
       "                                                                   StandardScaler())]),\n",
       "                                                  &lt;sklearn.compose._column_transformer.make_column_selector object at 0x7c23583a57d0&gt;)])),\n",
       "                (&#x27;rf_clf&#x27;, RandomForestClassifier(bootstrap=False))])</pre><b>In a Jupyter environment, please rerun this cell to show the HTML representation or trust the notebook. <br />On GitHub, the HTML representation is unable to render, please try loading this page with nbviewer.org.</b></div><div class=\"sk-container\" hidden><div class=\"sk-item sk-dashed-wrapped\"><div class=\"sk-label-container\"><div class=\"sk-label sk-toggleable\"><input class=\"sk-toggleable__control sk-hidden--visually\" id=\"sk-estimator-id-12\" type=\"checkbox\" ><label for=\"sk-estimator-id-12\" class=\"sk-toggleable__label sk-toggleable__label-arrow\">Pipeline</label><div class=\"sk-toggleable__content\"><pre>Pipeline(steps=[(&#x27;preprocessor&#x27;,\n",
       "                 ColumnTransformer(transformers=[(&#x27;log&#x27;,\n",
       "                                                  Pipeline(steps=[(&#x27;simpleimputer&#x27;,\n",
       "                                                                   SimpleImputer(strategy=&#x27;median&#x27;)),\n",
       "                                                                  (&#x27;functiontransformer&#x27;,\n",
       "                                                                   FunctionTransformer(feature_names_out=&#x27;one-to-one&#x27;,\n",
       "                                                                                       func=&lt;ufunc &#x27;log1p&#x27;&gt;)),\n",
       "                                                                  (&#x27;standardscaler&#x27;,\n",
       "                                                                   StandardScaler())]),\n",
       "                                                  [&#x27;fbs&#x27;, &#x27;oldpeak&#x27;, &#x27;ca&#x27;,\n",
       "                                                   &#x27;chol&#x27;]),\n",
       "                                                 (&#x27;num&#x27;,\n",
       "                                                  Pipeline(steps=[(&#x27;simpleimputer&#x27;,\n",
       "                                                                   SimpleImputer(strategy=&#x27;median&#x27;)),\n",
       "                                                                  (&#x27;standardscaler&#x27;,\n",
       "                                                                   StandardScaler())]),\n",
       "                                                  &lt;sklearn.compose._column_transformer.make_column_selector object at 0x7c23583a57d0&gt;)])),\n",
       "                (&#x27;rf_clf&#x27;, RandomForestClassifier(bootstrap=False))])</pre></div></div></div><div class=\"sk-serial\"><div class=\"sk-item sk-dashed-wrapped\"><div class=\"sk-label-container\"><div class=\"sk-label sk-toggleable\"><input class=\"sk-toggleable__control sk-hidden--visually\" id=\"sk-estimator-id-13\" type=\"checkbox\" ><label for=\"sk-estimator-id-13\" class=\"sk-toggleable__label sk-toggleable__label-arrow\">preprocessor: ColumnTransformer</label><div class=\"sk-toggleable__content\"><pre>ColumnTransformer(transformers=[(&#x27;log&#x27;,\n",
       "                                 Pipeline(steps=[(&#x27;simpleimputer&#x27;,\n",
       "                                                  SimpleImputer(strategy=&#x27;median&#x27;)),\n",
       "                                                 (&#x27;functiontransformer&#x27;,\n",
       "                                                  FunctionTransformer(feature_names_out=&#x27;one-to-one&#x27;,\n",
       "                                                                      func=&lt;ufunc &#x27;log1p&#x27;&gt;)),\n",
       "                                                 (&#x27;standardscaler&#x27;,\n",
       "                                                  StandardScaler())]),\n",
       "                                 [&#x27;fbs&#x27;, &#x27;oldpeak&#x27;, &#x27;ca&#x27;, &#x27;chol&#x27;]),\n",
       "                                (&#x27;num&#x27;,\n",
       "                                 Pipeline(steps=[(&#x27;simpleimputer&#x27;,\n",
       "                                                  SimpleImputer(strategy=&#x27;median&#x27;)),\n",
       "                                                 (&#x27;standardscaler&#x27;,\n",
       "                                                  StandardScaler())]),\n",
       "                                 &lt;sklearn.compose._column_transformer.make_column_selector object at 0x7c23583a57d0&gt;)])</pre></div></div></div><div class=\"sk-parallel\"><div class=\"sk-parallel-item\"><div class=\"sk-item\"><div class=\"sk-label-container\"><div class=\"sk-label sk-toggleable\"><input class=\"sk-toggleable__control sk-hidden--visually\" id=\"sk-estimator-id-14\" type=\"checkbox\" ><label for=\"sk-estimator-id-14\" class=\"sk-toggleable__label sk-toggleable__label-arrow\">log</label><div class=\"sk-toggleable__content\"><pre>[&#x27;fbs&#x27;, &#x27;oldpeak&#x27;, &#x27;ca&#x27;, &#x27;chol&#x27;]</pre></div></div></div><div class=\"sk-serial\"><div class=\"sk-item\"><div class=\"sk-serial\"><div class=\"sk-item\"><div class=\"sk-estimator sk-toggleable\"><input class=\"sk-toggleable__control sk-hidden--visually\" id=\"sk-estimator-id-15\" type=\"checkbox\" ><label for=\"sk-estimator-id-15\" class=\"sk-toggleable__label sk-toggleable__label-arrow\">SimpleImputer</label><div class=\"sk-toggleable__content\"><pre>SimpleImputer(strategy=&#x27;median&#x27;)</pre></div></div></div><div class=\"sk-item\"><div class=\"sk-estimator sk-toggleable\"><input class=\"sk-toggleable__control sk-hidden--visually\" id=\"sk-estimator-id-16\" type=\"checkbox\" ><label for=\"sk-estimator-id-16\" class=\"sk-toggleable__label sk-toggleable__label-arrow\">FunctionTransformer</label><div class=\"sk-toggleable__content\"><pre>FunctionTransformer(feature_names_out=&#x27;one-to-one&#x27;, func=&lt;ufunc &#x27;log1p&#x27;&gt;)</pre></div></div></div><div class=\"sk-item\"><div class=\"sk-estimator sk-toggleable\"><input class=\"sk-toggleable__control sk-hidden--visually\" id=\"sk-estimator-id-17\" type=\"checkbox\" ><label for=\"sk-estimator-id-17\" class=\"sk-toggleable__label sk-toggleable__label-arrow\">StandardScaler</label><div class=\"sk-toggleable__content\"><pre>StandardScaler()</pre></div></div></div></div></div></div></div></div><div class=\"sk-parallel-item\"><div class=\"sk-item\"><div class=\"sk-label-container\"><div class=\"sk-label sk-toggleable\"><input class=\"sk-toggleable__control sk-hidden--visually\" id=\"sk-estimator-id-18\" type=\"checkbox\" ><label for=\"sk-estimator-id-18\" class=\"sk-toggleable__label sk-toggleable__label-arrow\">num</label><div class=\"sk-toggleable__content\"><pre>&lt;sklearn.compose._column_transformer.make_column_selector object at 0x7c23583a57d0&gt;</pre></div></div></div><div class=\"sk-serial\"><div class=\"sk-item\"><div class=\"sk-serial\"><div class=\"sk-item\"><div class=\"sk-estimator sk-toggleable\"><input class=\"sk-toggleable__control sk-hidden--visually\" id=\"sk-estimator-id-19\" type=\"checkbox\" ><label for=\"sk-estimator-id-19\" class=\"sk-toggleable__label sk-toggleable__label-arrow\">SimpleImputer</label><div class=\"sk-toggleable__content\"><pre>SimpleImputer(strategy=&#x27;median&#x27;)</pre></div></div></div><div class=\"sk-item\"><div class=\"sk-estimator sk-toggleable\"><input class=\"sk-toggleable__control sk-hidden--visually\" id=\"sk-estimator-id-20\" type=\"checkbox\" ><label for=\"sk-estimator-id-20\" class=\"sk-toggleable__label sk-toggleable__label-arrow\">StandardScaler</label><div class=\"sk-toggleable__content\"><pre>StandardScaler()</pre></div></div></div></div></div></div></div></div></div></div><div class=\"sk-item\"><div class=\"sk-estimator sk-toggleable\"><input class=\"sk-toggleable__control sk-hidden--visually\" id=\"sk-estimator-id-21\" type=\"checkbox\" ><label for=\"sk-estimator-id-21\" class=\"sk-toggleable__label sk-toggleable__label-arrow\">RandomForestClassifier</label><div class=\"sk-toggleable__content\"><pre>RandomForestClassifier(bootstrap=False)</pre></div></div></div></div></div></div></div>"
      ],
      "text/plain": [
       "Pipeline(steps=[('preprocessor',\n",
       "                 ColumnTransformer(transformers=[('log',\n",
       "                                                  Pipeline(steps=[('simpleimputer',\n",
       "                                                                   SimpleImputer(strategy='median')),\n",
       "                                                                  ('functiontransformer',\n",
       "                                                                   FunctionTransformer(feature_names_out='one-to-one',\n",
       "                                                                                       func=<ufunc 'log1p'>)),\n",
       "                                                                  ('standardscaler',\n",
       "                                                                   StandardScaler())]),\n",
       "                                                  ['fbs', 'oldpeak', 'ca',\n",
       "                                                   'chol']),\n",
       "                                                 ('num',\n",
       "                                                  Pipeline(steps=[('simpleimputer',\n",
       "                                                                   SimpleImputer(strategy='median')),\n",
       "                                                                  ('standardscaler',\n",
       "                                                                   StandardScaler())]),\n",
       "                                                  <sklearn.compose._column_transformer.make_column_selector object at 0x7c23583a57d0>)])),\n",
       "                ('rf_clf', RandomForestClassifier(bootstrap=False))])"
      ]
     },
     "execution_count": 28,
     "metadata": {},
     "output_type": "execute_result"
    }
   ],
   "source": [
    "#TRAIN THE FINAL AND THE BEST MODEL\n",
    "final_rf_model = Pipeline([\n",
    "    (\"preprocessor\", preprocessor),\n",
    "    (\"rf_clf\", RandomForestClassifier(\n",
    "        n_estimators= 100,\n",
    "        max_depth= None,\n",
    "        min_samples_split= 2,\n",
    "        min_samples_leaf= 1,\n",
    "        bootstrap= False\n",
    "    )),\n",
    "])\n",
    "\n",
    "final_rf_model.fit(X_train, y_train)"
   ]
  },
  {
   "cell_type": "markdown",
   "id": "cb38376b",
   "metadata": {
    "papermill": {
     "duration": 0.009913,
     "end_time": "2025-04-25T12:40:11.301700",
     "exception": false,
     "start_time": "2025-04-25T12:40:11.291787",
     "status": "completed"
    },
    "tags": []
   },
   "source": [
    "### Evaluate the final model on the real test set"
   ]
  },
  {
   "cell_type": "code",
   "execution_count": 29,
   "id": "e3a6aa13",
   "metadata": {
    "execution": {
     "iopub.execute_input": "2025-04-25T12:40:11.324105Z",
     "iopub.status.busy": "2025-04-25T12:40:11.323739Z",
     "iopub.status.idle": "2025-04-25T12:40:11.355154Z",
     "shell.execute_reply": "2025-04-25T12:40:11.354099Z"
    },
    "papermill": {
     "duration": 0.044305,
     "end_time": "2025-04-25T12:40:11.356883",
     "exception": false,
     "start_time": "2025-04-25T12:40:11.312578",
     "status": "completed"
    },
    "tags": []
   },
   "outputs": [
    {
     "name": "stdout",
     "output_type": "stream",
     "text": [
      "Confusion Matrix (Test Set):\n",
      "[[100   0]\n",
      " [  0 105]]\n",
      "Classification report (Test Set):\n",
      "              precision    recall  f1-score   support\n",
      "\n",
      "           0       1.00      1.00      1.00       100\n",
      "           1       1.00      1.00      1.00       105\n",
      "\n",
      "    accuracy                           1.00       205\n",
      "   macro avg       1.00      1.00      1.00       205\n",
      "weighted avg       1.00      1.00      1.00       205\n",
      "\n",
      "F1 Score (Test Set): 1.0\n"
     ]
    }
   ],
   "source": [
    "#MAKING THE REAL TEST ON THE TEST SET\n",
    "\n",
    "y_test_pred = final_rf_model.predict(X_test)\n",
    "\n",
    "from sklearn.metrics import classification_report, f1_score, confusion_matrix\n",
    "\n",
    "print(\"Confusion Matrix (Test Set):\")\n",
    "print(confusion_matrix(y_test, y_test_pred))\n",
    "\n",
    "print(\"Classification report (Test Set):\")\n",
    "print(classification_report(y_test, y_test_pred))\n",
    "\n",
    "fin_f1 = f1_score(y_test, y_test_pred)\n",
    "print(\"F1 Score (Test Set):\", fin_f1)"
   ]
  },
  {
   "cell_type": "markdown",
   "id": "1358404d",
   "metadata": {
    "papermill": {
     "duration": 0.010095,
     "end_time": "2025-04-25T12:40:11.377535",
     "exception": false,
     "start_time": "2025-04-25T12:40:11.367440",
     "status": "completed"
    },
    "tags": []
   },
   "source": [
    "### We have almost reached perfection"
   ]
  },
  {
   "cell_type": "code",
   "execution_count": 30,
   "id": "8586f582",
   "metadata": {
    "execution": {
     "iopub.execute_input": "2025-04-25T12:40:11.399434Z",
     "iopub.status.busy": "2025-04-25T12:40:11.399107Z",
     "iopub.status.idle": "2025-04-25T12:40:11.413272Z",
     "shell.execute_reply": "2025-04-25T12:40:11.412232Z"
    },
    "papermill": {
     "duration": 0.027148,
     "end_time": "2025-04-25T12:40:11.414999",
     "exception": false,
     "start_time": "2025-04-25T12:40:11.387851",
     "status": "completed"
    },
    "tags": []
   },
   "outputs": [
    {
     "name": "stdout",
     "output_type": "stream",
     "text": [
      "F1 score in the train set: 0.9619952494061758\n",
      "F1 score in the test set (the real test): 1.0\n",
      "Class distribution in the train set:\n",
      "target\n",
      "1    421\n",
      "0    399\n",
      "Name: count, dtype: int64\n",
      "Class distribution in the test set:\n",
      "target\n",
      "1    105\n",
      "0    100\n",
      "Name: count, dtype: int64\n",
      "Duplicate data between training and test sets: 0\n"
     ]
    }
   ],
   "source": [
    "#ONLY TO SHOW THAT IS NOT OVERFITTING\n",
    "\n",
    "f1_sco_train = f1_score(y_train, y_train_pred_2)\n",
    "print(f\"F1 score in the train set: {f1_sco_train}\")\n",
    "print(f\"F1 score in the test set (the real test): {fin_f1}\")\n",
    "\n",
    "print(\"Class distribution in the train set:\")\n",
    "print(y_train.value_counts())\n",
    "print(\"Class distribution in the test set:\")\n",
    "print(y_test.value_counts())\n",
    "\n",
    "print(\"Duplicate data between training and test sets:\", len(set(X_train.index).intersection(set(X_test.index))))"
   ]
  }
 ],
 "metadata": {
  "kaggle": {
   "accelerator": "none",
   "dataSources": [
    {
     "datasetId": 216167,
     "sourceId": 477177,
     "sourceType": "datasetVersion"
    }
   ],
   "dockerImageVersionId": 31012,
   "isGpuEnabled": false,
   "isInternetEnabled": true,
   "language": "python",
   "sourceType": "notebook"
  },
  "kernelspec": {
   "display_name": "Python 3",
   "language": "python",
   "name": "python3"
  },
  "language_info": {
   "codemirror_mode": {
    "name": "ipython",
    "version": 3
   },
   "file_extension": ".py",
   "mimetype": "text/x-python",
   "name": "python",
   "nbconvert_exporter": "python",
   "pygments_lexer": "ipython3",
   "version": "3.11.11"
  },
  "papermill": {
   "default_parameters": {},
   "duration": 137.950265,
   "end_time": "2025-04-25T12:40:14.045319",
   "environment_variables": {},
   "exception": null,
   "input_path": "__notebook__.ipynb",
   "output_path": "__notebook__.ipynb",
   "parameters": {},
   "start_time": "2025-04-25T12:37:56.095054",
   "version": "2.6.0"
  }
 },
 "nbformat": 4,
 "nbformat_minor": 5
}
